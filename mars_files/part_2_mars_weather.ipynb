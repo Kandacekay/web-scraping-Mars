{
 "cells": [
  {
   "cell_type": "markdown",
   "metadata": {},
   "source": [
    "# Module 12 Challenge\n",
    "## Deliverable 2: Scrape and Analyze Mars Weather Data"
   ]
  },
  {
   "cell_type": "code",
   "execution_count": 1,
   "metadata": {},
   "outputs": [],
   "source": [
    "# Import relevant libraries\n",
    "from splinter import Browser\n",
    "from bs4 import BeautifulSoup\n",
    "import matplotlib.pyplot as plt\n",
    "import pandas as pd\n",

   ]
  },

   "source": [
    "browser = Browser('chrome')"
   ]
  },
  {
   "cell_type": "markdown",
   "metadata": {},
   "source": [
    "### Step 1: Visit the Website\n",
    "\n",
    "Use automated browsing to visit the [Mars Temperature Data Site](https://static.bc-edx.com/data/web/mars_facts/temperature.html). Inspect the page to identify which elements to scrape.\n",
    "\n",
    "   > **Hint** To identify which elements to scrape, you might want to inspect the page by using Chrome DevTools to discover whether the table contains usable classes.\n"
   ]
  },
  {
   "cell_type": "code",
   "execution_count": 4,
   "metadata": {},
   "outputs": [],
   "source": [
    "# Visit the website\n",
    "# https://static.bc-edx.com/data/web/mars_facts/temperature.html\n",
    "url = \"https://static.bc-edx.com/data/web/mars_facts/temperature.html\"\n",
    "browser.visit(url)\n",
    "html = browser.html"
   ]
  },
  {
   "cell_type": "markdown",
   "metadata": {},
   "source": [
    "### Step 2: Scrape the Table\n",
    "\n",
    "Create a Beautiful Soup object and use it to scrape the data in the HTML table.\n",
    "\n",
    "Note that this can also be achieved by using the Pandas `read_html` function. However, use Beautiful Soup here to continue sharpening your web scraping skills."
   ]
  },
  {
   "cell_type": "code",
   "execution_count": 5,
   "metadata": {},
   "outputs": [],
   "source": [
    "# Create a Beautiful Soup Object\n",
    "soup = BeautifulSoup(html, 'html.parser')"
   ]
  },
  {
   "cell_type": "code",
   "execution_count": 6,
   "metadata": {},
   "outputs": [],
   "source": [
    "# Extract all rows of data\n",
    "rows = soup.find_all('tr', class_=\"data-row\")"
   ]
  },
  {
   "cell_type": "markdown",
   "metadata": {},
   "source": [
    "### Step 3: Store the Data\n",
    "\n",
    "Assemble the scraped data into a Pandas DataFrame. The columns should have the same headings as the table on the website. Here’s an explanation of the column headings:\n",
    "\n",
    "* `id`: the identification number of a single transmission from the Curiosity rover\n",
    "* `terrestrial_date`: the date on Earth\n",
    "* `sol`: the number of elapsed sols (Martian days) since Curiosity landed on Mars\n",
    "* `ls`: the solar longitude\n",
    "* `month`: the Martian month\n",
    "* `min_temp`: the minimum temperature, in Celsius, of a single Martian day (sol)\n",
    "* `pressure`: The atmospheric pressure at Curiosity's location"
   ]
  },
  {
   "cell_type": "code",
   "execution_count": 7,
   "metadata": {},
   "outputs": [],
   "source": [
    "# # Create an empty list\n",
    "row_data = []\n",
    "# # Loop through the scraped data to create a list of rows\n",
    "for row in rows:\n",
    "    cols = row.find_all('td')\n",
    "    cols = [ele.text.strip() for ele in cols]\n",
    "    row_data.append(cols)\n",
    "    columns = [\"id\", \"terrestrial_date\", \"sol\", \"ls\", \"month\", \"min_temp\", \"pressure\"]"
   ]
  },
  {
   "cell_type": "code",
   "execution_count": 8,
   "metadata": {},
   "outputs": [],
   "source": [
    "# Create a Pandas DataFrame by using the list of rows and a list of the column names\n",
    "df = pd.DataFrame(row_data, columns=columns)"
   ]
  },
  {
   "cell_type": "code",
   "execution_count": 9,
   "metadata": {},
   "outputs": [
    {
     "data": {
      "text/html": [
       "<div>\n",
       "<style scoped>\n",
       "    .dataframe tbody tr th:only-of-type {\n",
       "        vertical-align: middle;\n",
       "    }\n",
       "\n",
       "    .dataframe tbody tr th {\n",
       "        vertical-align: top;\n",
       "    }\n",
       "\n",
       "    .dataframe thead th {\n",
       "        text-align: right;\n",
       "    }\n",
       "</style>\n",
       "<table border=\"1\" class=\"dataframe\">\n",
       "  <thead>\n",
       "    <tr style=\"text-align: right;\">\n",
       "      <th></th>\n",
       "      <th>id</th>\n",
       "      <th>terrestrial_date</th>\n",
       "      <th>sol</th>\n",
       "      <th>ls</th>\n",
       "      <th>month</th>\n",
       "      <th>min_temp</th>\n",
       "      <th>pressure</th>\n",
       "    </tr>\n",
       "  </thead>\n",
       "  <tbody>\n",
       "    <tr>\n",
       "      <th>0</th>\n",
       "      <td>2</td>\n",
       "      <td>2012-08-16</td>\n",
       "      <td>10</td>\n",
       "      <td>155</td>\n",
       "      <td>6</td>\n",
       "      <td>-75.0</td>\n",
       "      <td>739.0</td>\n",
       "    </tr>\n",
       "    <tr>\n",
       "      <th>1</th>\n",
       "      <td>13</td>\n",
       "      <td>2012-08-17</td>\n",
       "      <td>11</td>\n",
       "      <td>156</td>\n",
       "      <td>6</td>\n",
       "      <td>-76.0</td>\n",
       "      <td>740.0</td>\n",
       "    </tr>\n",
       "    <tr>\n",
       "      <th>2</th>\n",
       "      <td>24</td>\n",
       "      <td>2012-08-18</td>\n",
       "      <td>12</td>\n",
       "      <td>156</td>\n",
       "      <td>6</td>\n",
       "      <td>-76.0</td>\n",
       "      <td>741.0</td>\n",
       "    </tr>\n",
       "    <tr>\n",
       "      <th>3</th>\n",
       "      <td>35</td>\n",
       "      <td>2012-08-19</td>\n",
       "      <td>13</td>\n",
       "      <td>157</td>\n",
       "      <td>6</td>\n",
       "      <td>-74.0</td>\n",
       "      <td>732.0</td>\n",
       "    </tr>\n",
       "    <tr>\n",
       "      <th>4</th>\n",
       "      <td>46</td>\n",
       "      <td>2012-08-20</td>\n",
       "      <td>14</td>\n",
       "      <td>157</td>\n",
       "      <td>6</td>\n",
       "      <td>-74.0</td>\n",
       "      <td>740.0</td>\n",
       "    </tr>\n",
       "    <tr>\n",
       "      <th>...</th>\n",
       "      <td>...</td>\n",
       "      <td>...</td>\n",
       "      <td>...</td>\n",
       "      <td>...</td>\n",
       "      <td>...</td>\n",
       "      <td>...</td>\n",
       "      <td>...</td>\n",
       "    </tr>\n",
       "    <tr>\n",
       "      <th>1862</th>\n",
       "      <td>1889</td>\n",
       "      <td>2018-02-23</td>\n",
       "      <td>1973</td>\n",
       "      <td>133</td>\n",
       "      <td>5</td>\n",
       "      <td>-78.0</td>\n",
       "      <td>730.0</td>\n",
       "    </tr>\n",
       "    <tr>\n",
       "      <th>1863</th>\n",
       "      <td>1892</td>\n",
       "      <td>2018-02-24</td>\n",
       "      <td>1974</td>\n",
       "      <td>134</td>\n",
       "      <td>5</td>\n",
       "      <td>-77.0</td>\n",
       "      <td>729.0</td>\n",
       "    </tr>\n",
       "    <tr>\n",
       "      <th>1864</th>\n",
       "      <td>1894</td>\n",
       "      <td>2018-02-25</td>\n",
       "      <td>1975</td>\n",
       "      <td>134</td>\n",
       "      <td>5</td>\n",
       "      <td>-76.0</td>\n",
       "      <td>729.0</td>\n",
       "    </tr>\n",
       "    <tr>\n",
       "      <th>1865</th>\n",
       "      <td>1893</td>\n",
       "      <td>2018-02-26</td>\n",
       "      <td>1976</td>\n",
       "      <td>135</td>\n",
       "      <td>5</td>\n",
       "      <td>-77.0</td>\n",
       "      <td>728.0</td>\n",
       "    </tr>\n",
       "    <tr>\n",
       "      <th>1866</th>\n",
       "      <td>1895</td>\n",
       "      <td>2018-02-27</td>\n",
       "      <td>1977</td>\n",
       "      <td>135</td>\n",
       "      <td>5</td>\n",
       "      <td>-77.0</td>\n",
       "      <td>727.0</td>\n",
       "    </tr>\n",
       "  </tbody>\n",
       "</table>\n",
       "<p>1867 rows × 7 columns</p>\n",
       "</div>"
      ],
      "text/plain": [
       "        id terrestrial_date   sol   ls month min_temp pressure\n",
       "0        2       2012-08-16    10  155     6    -75.0    739.0\n",
       "1       13       2012-08-17    11  156     6    -76.0    740.0\n",
       "2       24       2012-08-18    12  156     6    -76.0    741.0\n",
       "3       35       2012-08-19    13  157     6    -74.0    732.0\n",
       "4       46       2012-08-20    14  157     6    -74.0    740.0\n",
       "...    ...              ...   ...  ...   ...      ...      ...\n",
       "1862  1889       2018-02-23  1973  133     5    -78.0    730.0\n",
       "1863  1892       2018-02-24  1974  134     5    -77.0    729.0\n",
       "1864  1894       2018-02-25  1975  134     5    -76.0    729.0\n",
       "1865  1893       2018-02-26  1976  135     5    -77.0    728.0\n",
       "1866  1895       2018-02-27  1977  135     5    -77.0    727.0\n",
       "\n",
       "[1867 rows x 7 columns]"
      ]
     },
     "execution_count": 9,
     "metadata": {},
     "output_type": "execute_result"
    }
   ],
   "source": [
    "# Confirm DataFrame was created successfully\n",
    "df"
   ]
  },
  {
   "cell_type": "markdown",
   "metadata": {},
   "source": [
    "### Step 4: Prepare Data for Analysis\n",
    "\n",
    "Examine the data types that are currently associated with each column. If necessary, cast (or convert) the data to the appropriate `datetime`, `int`, or `float` data types.\n",
    "\n",
    "  > **Hint** You can use the Pandas `astype` and `to_datetime` methods to accomplish this task.\n"
   ]
  },
  {
   "cell_type": "code",
   "execution_count": 10,
   "metadata": {},
   "outputs": [
    {
     "name": "stdout",
     "output_type": "stream",
     "text": [
      "id                  object\n",
      "terrestrial_date    object\n",
      "sol                 object\n",
      "ls                  object\n",
      "month               object\n",
      "min_temp            object\n",
      "pressure            object\n",
      "dtype: object\n"
     ]
    }
   ],
   "source": [
    "# Examine data type of each column\n",
    "print(df.dtypes)"
   ]
  },
  {
   "cell_type": "code",
   "execution_count": 11,
   "metadata": {},
   "outputs": [],
   "source": [
    "# Change data types for data analysis\n",
    "df['terrestrial_date'] = pd.to_datetime(df['terrestrial_date'])\n",
    "df['sol'] = df['sol'].astype(int)\n",
    "df['ls']= df['ls'].astype(int)\n",
    "df['month'] = df['month'].astype(int)\n",
    "df['min_temp'] = df['min_temp'].astype(float)\n",
    "df['pressure'] = df['pressure'].astype(float)"
   ]
  },
  {
   "cell_type": "code",
   "execution_count": 12,
   "metadata": {},
   "outputs": [
    {
     "name": "stdout",
     "output_type": "stream",
     "text": [
      "id                          object\n",
      "terrestrial_date    datetime64[ns]\n",
      "sol                          int32\n",
      "ls                           int32\n",
      "month                        int32\n",
      "min_temp                   float64\n",
      "pressure                   float64\n",
      "dtype: object\n"
     ]
    }
   ],
   "source": [
    "# Confirm type changes were successful by examining data types again\n",
    "print(df.dtypes)"
   ]
  },
  {
   "cell_type": "markdown",
   "metadata": {},
   "source": [
    "### Step 5: Analyze the Data\n",
    "\n",
    "Analyze your dataset by using Pandas functions to answer the following questions:\n",
    "\n",
    "1. How many months exist on Mars?\n",
    "2. How many Martian (and not Earth) days worth of data exist in the scraped dataset?\n",
    "3. What are the coldest and the warmest months on Mars (at the location of Curiosity)? To answer this question:\n",
    "    * Find the average the minimum daily temperature for all of the months.\n",
    "    * Plot the results as a bar chart.\n",
    "4. Which months have the lowest and the highest atmospheric pressure on Mars? To answer this question:\n",
    "    * Find the average the daily atmospheric pressure of all the months.\n",
    "    * Plot the results as a bar chart.\n",
    "5. About how many terrestrial (Earth) days exist in a Martian year? To answer this question:\n",
    "    * Consider how many days elapse on Earth in the time that Mars circles the Sun once.\n",
    "    * Visually estimate the result by plotting the daily minimum temperature.\n"
   ]
  },
  {
   "cell_type": "code",
   "execution_count": 13,
   "metadata": {},
   "outputs": [
    {
     "data": {
      "text/plain": [
       "1     174\n",
       "2     178\n",
       "3     192\n",
       "4     194\n",
       "5     149\n",
       "6     147\n",
       "7     142\n",
       "8     141\n",
       "9     134\n",
       "10    112\n",
       "11    138\n",
       "12    166\n",
       "Name: month, dtype: int64"
      ]
     },
     "execution_count": 13,
     "metadata": {},
     "output_type": "execute_result"
    }
   ],
   "source": [
    "# 1. How many months are there on Mars?\n",
    "num_months = df['month'].value_counts()\n",
    "month_counts_sorted = num_months.sort_index()\n",
    "month_counts_sorted"
   ]
  },
  {
   "cell_type": "code",
   "execution_count": 14,
   "metadata": {},
   "outputs": [
    {
     "data": {
      "text/plain": [
       "1867"
      ]
     },
     "execution_count": 14,
     "metadata": {},
     "output_type": "execute_result"
    }
   ],
   "source": [
    "# 2. How many Martian days' worth of data are there?\n",
    "mars_days= df['month'].count()\n",
    "mars_days"
   ]
  },
  {
   "cell_type": "code",
   "execution_count": 22,
   "metadata": {},
   "outputs": [
    {
     "data": {
      "text/plain": [
       "month\n",
       "1    -77.160920\n",
       "2    -79.932584\n",
       "3    -83.307292\n",
       "4    -82.747423\n",
       "5    -79.308725\n",
       "6    -75.299320\n",
       "7    -72.281690\n",
       "8    -68.382979\n",
       "9    -69.171642\n",
       "10   -71.982143\n",
       "11   -71.985507\n",
       "12   -74.451807\n",
       "Name: min_temp, dtype: float64"
      ]
     },
     "execution_count": 22,
     "metadata": {},
     "output_type": "execute_result"
    }
   ],
   "source": [
    "# 3. What is the average low temperature by month?\n",
    "avg_min_temp_by_month = df.groupby('month')['min_temp'].mean()\n",
    "avg_min_temp_by_month "
   ]
  },
  {
   "cell_type": "code",
   "execution_count": 42,
   "metadata": {},
   "outputs": [
    {
     "data": {
      "image/png": "iVBORw0KGgoAAAANSUhEUgAAAj4AAAHFCAYAAADyj/PrAAAAOXRFWHRTb2Z0d2FyZQBNYXRwbG90bGliIHZlcnNpb24zLjcuMSwgaHR0cHM6Ly9tYXRwbG90bGliLm9yZy/bCgiHAAAACXBIWXMAAA9hAAAPYQGoP6dpAABPs0lEQVR4nO3deVhUZeM+8HvYhgEBkWFVNtdEXMEUMLdMNDTN3BNBjfJVXhdSk6wECzGXyrQ0FXGp1FKzhFQw1OKVFNyT0jQUUlADBXJBluf3hz/m6ziAjM44M879ua65LuY5Z87cwzJzc1aJEEKAiIiIyAiY6DoAERER0ZPC4kNERERGg8WHiIiIjAaLDxERERkNFh8iIiIyGiw+REREZDRYfIiIiMhosPgQERGR0WDxISIiIqPB4mPgPv30U0gkEvj6+uo6it7p2bMnJBIJmjZtippOUP7zzz9DIpFAIpFg3bp1ivF169ZBIpHgwoULaj/nhQsXVJZnyKq/hw+7xcTE6DqqzmRnZyMmJuaRfl+0bf/+/ZBIJNi6datWn6f6b0YikWD//v0q04UQaN68OSQSCXr27KnVLAcPHkRMTAxu3LihMs3LywsDBgzQ6vM/rur3kLr+rsaPH6+Yh9TH4mPg1q5dCwA4ffo0Dh06pOM0+sfGxgY5OTlIS0tTmbZ27VrY2tqqjIeEhCAjIwOurq5qP5+rqysyMjIQEhLySHn1zeeff46MjAzF7Z133gEAJCYmKo2/9tprOk6qO9nZ2YiNjdXL4vOk2djYICEhQWX8wIEDOH/+PGxsbLSe4eDBg4iNja2x+BgSGxsbrFu3DlVVVUrj//77L7799tsa37uoflh8DFhWVhZOnDih+JCt6Q1H24QQuH379hN/3vry8PBA165dFQWxWmlpKb799luMGDFC5TGOjo7o2rUrpFKp2s8nlUrRtWtXODo6PnJmfeLj44OuXbsqbs2aNQMA+Pr6Ko03adJEx0k159atW7qOAAAoLy9HRUWFrmOoZcSIEdi2bRtKSkqUxhMSEhAQEAAPDw8dJTM8I0aMwMWLF/HTTz8pjW/ZsgWVlZV46aWXNPp8+vJ7/ySw+Biw6qKzYMECBAYGYvPmzYpf3vLycjg5OSE0NFTlcTdu3IBMJkNUVJRirKSkBDNmzIC3tzcsLCzQuHFjTJs2DTdv3lR6rEQiQWRkJFauXInWrVtDKpVi/fr1AIDY2Fh06dIFjRo1gq2tLTp16oSEhASVzUxlZWV488034eLiAisrK3Tv3h1HjhyBl5cXwsPDleYtKCjAG2+8gSZNmsDCwgLe3t6IjY1V6wNh/Pjx2L59u9J/gJs3bwYAjBw5UmX+mjZ19ezZE76+vsjMzMRzzz0HKysrNG3aFAsWLFD6j6ymTV0xMTGQSCQ4efIkhg0bBjs7OzRq1AhRUVGoqKjAmTNn0K9fP9jY2MDLywsLFy58aB7g/zZj3L9poTpnRkYGAgMDIZPJ4OXlhcTERABAcnIyOnXqBCsrK7Rt2xa7d++u9/exLlu2bEFAQACsra3RoEEDBAcH49ixY0rzhIeHo0GDBvjjjz8QHBwMa2truLq6YsGCBQCAX3/9Fd26dYO1tTVatmyp+L168PuQmpqKcePGoVGjRrC2tsbAgQPx119/qWTau3cvnn/+edja2sLKygpBQUEqHyLVP5ujR49i6NChsLe3V5S7rKwsjBw5El5eXorv46hRo3Dx4kWlTMOGDQMA9OrVS2XTaU2/08C9n9P9m3yqf5YbN27Em2++icaNG0MqleLcuXP1fi11uXPnDqKiouDi4gKZTIYePXoo/Xw2btwIiUSCjIwMlcfOmzcP5ubmuHz58kOfZ9SoUQCATZs2KcaKi4uxbds2jB8/vsbHFBUVYdKkSWjcuDEsLCzQtGlTzJkzB2VlZUrzVb/3bNy4Ea1bt4aVlRXat2+PpKQkxTwxMTGYOXMmAMDb27vWzW+7d+9Gp06dIJPJ8Mwzz6j8Y1QbTWZ9mFatWiEwMFAl29q1azFkyBDY2dmpPGbLli3o27cvXF1dIZPJ0Lp1a8yePVvlfbz6b/HUqVPo27cvbGxs8PzzzwMAjh07hgEDBsDJyQlSqRRubm4ICQnB33//Xe/sek+QQbp165aws7MTnTt3FkIIsWbNGgFArFu3TjHP9OnThUwmE8XFxUqP/fzzzwUAcfLkSSGEEDdv3hQdOnQQcrlcfPTRR2Lv3r1i6dKlws7OTvTu3VtUVVUpHgtANG7cWLRr1058/fXXIi0tTfz2229CCCHCw8NFQkKCSE1NFampqeL9998XMplMxMbGKj3/qFGjhImJiZg9e7ZISUkRn3zyiXB3dxd2dnYiLCxMMV9+fr5wd3cXnp6e4osvvhB79+4V77//vpBKpSI8PPyh36MePXqINm3aiJKSEmFtbS0+//xzxbQuXbqIsWPHiszMTAFAJCYmKqYlJiYKACInJ0dpWQ4ODqJFixZi5cqVIjU1VUyaNEkAEOvXr1fMl5OTo7K8uXPnCgCiVatW4v333xepqali1qxZAoCIjIwUzzzzjPj0009FamqqGDdunAAgtm3bVmceIYTYt2+fACD27dunkrNVq1YiISFB7NmzRwwYMEAAELGxsaJt27Zi06ZN4scffxRdu3YVUqlUXLp06aHfywezZGZmKsbi4uKERCIR48ePF0lJSWL79u0iICBAWFtbi9OnTyvmCwsLExYWFqJ169Zi6dKlSq83OjpatGzZUiVzVlaWynO7u7uL8ePHi127dolVq1YJJycn4e7uLq5fv66Yd+PGjUIikYjBgweL7du3i507d4oBAwYIU1NTsXfvXpWfjaenp3jrrbdEamqq2LFjhxBCiG+//Va899574rvvvhMHDhwQmzdvFj169BCOjo7i2rVrQgghrl69KubPny8AiM8++0xkZGSIjIwMcfXqVSGEEJ6enkq/0/f/nHr06KHys2zcuLEYOnSo+OGHH0RSUpIoLCys92upSfVy3d3dxaBBg8TOnTvFl19+KZo3by5sbW3F+fPnhRBClJWVCRcXF/Hqq68qPb68vFy4ubmJYcOG1fk89/9ehIaGimeffVYxbcWKFcLa2lqUlJSINm3aKL3u27dvi3bt2glra2uxePFikZKSIt59911hZmYmXnzxRaXnACC8vLzEs88+K7755hvx448/ip49ewozMzPF68jLyxP//e9/BQCxfft2xc+j+j3Q09NTNGnSRPj4+IgNGzaIPXv2iGHDhgkA4sCBA3W+Rk1nrU31e8iiRYtEQkKCsLS0FEVFRUIIIf744w8BQKSlpYnJkyeLBz/C33//ffHxxx+L5ORksX//frFy5Urh7e0tevXqpTRfWFiYMDc3F15eXiI+Pl789NNPYs+ePeLff/8VDg4Owt/fX3zzzTfiwIEDYsuWLWLixIkiOzu7ztyGhMXHQG3YsEEAECtXrhRCCFFaWioaNGggnnvuOcU8J0+eFADEqlWrlB777LPPCj8/P8X9+Ph4YWJiovRhJoQQW7duFQDEjz/+qBgDIOzs7BR/iLWprKwU5eXlYt68ecLBwUFRnk6fPi0AiLfeektp/k2bNgkASh8Sb7zxhmjQoIG4ePGi0ryLFy8WAJQ+VGtSXXyEuPeH7u/vr5Rh//79ahUfAOLQoUNKz+Hj4yOCg4MV9+sqPkuWLFF6bIcOHRRv0NXKy8uFo6OjGDJkSJ15hKi9+DxYGAoLC4WpqamQyWRKJef48eMCgPj0009r+Q6qerD45ObmCjMzM/Hf//5Xab7S0lLh4uIihg8frhgLCwtTKXXVrxeAOHr0qErmqKgoled++eWXlZ7rf//7nwAgPvjgAyHEvSLfqFEjMXDgQKX5KisrRfv27ZU+lKt/Nu+9995DX3tFRYX4999/hbW1tVi6dKli/Ntvv1X5OVRTt/h0795daT51XktNqpfbqVMnpX9gLly4IMzNzcVrr72mGJs7d66wsLAQV65cUYxt2bKlXqXg/t+L6ues/oeoc+fOin9UHiw+K1euFADEN998o7S8Dz/8UAAQKSkpijEAwtnZWZSUlCjGCgoKhImJiYiPj1eMLVq0qMa/FyHu/TwsLS2V3lNu374tGjVqJN544406X6M2stbk/uJT/b6+fPlyIYQQM2fOFN7e3qKqqqrG4nO/qqoqUV5eLg4cOCAAiBMnTiimVf8trl27VukxWVlZAoCi/D+tuKnLQCUkJEAmkyk21TRo0ADDhg3DL7/8gj///BMA0LZtW/j5+Sk2cwDA77//jsOHDyutdk5KSoKvry86dOiAiooKxS04OLjG1cS9e/eGvb29Sqa0tDT06dMHdnZ2MDU1hbm5Od577z0UFhbi6tWrAO7t5AgAw4cPV3rs0KFDYWZmpjSWlJSEXr16wc3NTSlX//79lZZVH+PHj0dWVhZOnTqFhIQENGvWDN27d6/34wHAxcUFzz77rNJYu3btlDZ91OXBo0lat24NiUSieD0AYGZmhubNm9d7mTVxdXWFn5+f4n6jRo3g5OSEDh06wM3NTen5ATzWc+3ZswcVFRUYO3as0s/I0tISPXr0UPndkUgkePHFFxX3q1+vq6srOnbsqJK5pmyvvvqq0v3AwEB4enpi3759AO7t3FpUVISwsDClTFVVVejXrx8yMzNVVv2/8sorKs/z77//4q233kLz5s1hZmYGMzMzNGjQADdv3sTvv/+u9veqPh7M8SivpSajR49WOgLI09MTgYGBiu8ZAPznP/8BAKxevVoxtnz5crRt21atv5UePXqgWbNmWLt2LU6dOoXMzMxaN3OlpaXB2toaQ4cOVRqv3jz44Oa8Xr16Ke0g7ezsXOvvSW06dOigtK+RpaUlWrZs+dBl6CJr9fv62rVrUVFRgQ0bNmDcuHG1Hs31119/YfTo0XBxcVG8B/fo0QMAavydffD3rXnz5rC3t8dbb72FlStXIjs7u95ZDYnZw2chfXPu3Dn8/PPPeOWVVyCEUOy7MnToUCQmJmLt2rWIj48HcO8Df/Lkyfjjjz/wzDPPIDExEVKpVLEtHgCuXLmCc+fOwdzcvMbn++eff5Tu13S00+HDh9G3b1/07NkTq1evVuyTs2PHDsTFxSl2gC4sLARw703gfmZmZnBwcFAau3LlCnbu3FnvXHXp3r07WrRogS+++ALffPMNpk2bpvahoA/mA+7tzFzfnbsbNWqkdN/CwgJWVlawtLRUGX9w51B1PPg81cus6fmBe/t/PKorV64AADp37lzjdBMT5f+tanu9tWWuKZuLi0uNY9W/W9WZHvyAul9RURGsra0V92v6nR49ejR++uknvPvuu+jcuTNsbW0VxU1bO/Q/mONRXktNavuenThxQnHf2dkZI0aMwBdffIHZs2fj9OnT+OWXX/DFF1+o8xIgkUgwbtw4fPrpp7hz5w5atmyJ5557rsZ5CwsL4eLiovK36OTkBDMzM8XPtNrj/g0+zjJ0kRUAJkyYgG7duiEuLg7Xrl2rcZ8x4F5Rf+6552BpaYkPPvgALVu2hJWVFfLy8jBkyBCV57WyslI5MszOzg4HDhxAXFwc3n77bVy/fh2urq6IiIjAO++8U+t7saFh8TFAa9euhRACW7durfH8HOvXr8cHH3wAU1NTjBo1ClFRUVi3bh3i4uKwceNGDB48WGmNjVwuh0wmq3UHP7lcrnS/psKwefNmmJubIykpSemDbceOHUrzVb8ZXLlyBY0bN1aMV1RUqLxxyOVytGvXDnFxcTXmun/tRX2MGzcO77zzDiQSCcLCwtR6rC5Vfz8f3IFSneKnLdW/G1u3boWnp+cTec6CgoIax5o3b66UadmyZejatWuNy3iweD/4O11cXIykpCTMnTsXs2fPVoyXlZWhqKio3lktLS1Vfm7AvZ/dg39XNeV4lNdSk9q+Zw9+OE+dOhUbN27E999/j927d6Nhw4Yqa9jqIzw8HO+99x5WrlxZ698vcO/94NChQxBCKL32q1evoqKiosbvka7oKmtQUBBatWqFefPm4YUXXoC7u3uN86WlpeHy5cvYv3+/Yi0PgFoP66/tH7+2bdti8+bNEELg5MmTWLduHebNmweZTKb0t2DIWHwMTGVlJdavX49mzZphzZo1KtOTkpKwZMkS7Nq1CwMGDIC9vT0GDx6MDRs2ICAgAAUFBSqrnQcMGID58+fDwcEB3t7ej5RLIpHAzMwMpqamirHbt29j48aNSvNVrzLfsmULOnXqpBjfunWrypFaAwYMwI8//ohmzZrVuGlNXWFhYTh06BBat26tVLr0nZeXFwDg5MmTaNWqlWL8hx9+0FGi/xMcHAwzMzOcP3++xs1F2vDVV18pPdfBgwdx8eJFxbmEgoKC0LBhQ2RnZyMyMvKRnkMikUAIoXJKgzVr1qCyslJprHqemv6T9/LywsmTJ5XGzp49izNnztTrg1ITrwW4d5RVVFSU4sPu4sWLOHjwIMaOHas0n5+fHwIDA/Hhhx/it99+w+uvv/7QtUk1ady4MWbOnIk//vijzn8ynn/+eXzzzTfYsWMHXn75ZcX4hg0bFNPVVdfP43FoI2t9vfPOO9i6dSsmT55c6zzVP9sHf2fVXWN3//Lat2+Pjz/+GOvWrcPRo0cfaTn6iMXHwOzatQuXL1/Ghx9+WOMZUH19fbF8+XIkJCQo9ikZP348tmzZgsjISDRp0gR9+vRResy0adOwbds2dO/eHdOnT0e7du1QVVWF3NxcpKSk4M0330SXLl3qzBUSEoKPPvoIo0ePxuuvv47CwkIsXrxY5Y+wTZs2GDVqFJYsWQJTU1P07t0bp0+fxpIlS2BnZ6e0aWTevHlITU1FYGAgpkyZglatWuHOnTu4cOECfvzxR6xcuVKt88e4ubmprIEyBJ07d0arVq0wY8YMVFRUwN7eHt999x3S09N1HQ1eXl6YN28e5syZg7/++gv9+vWDvb09rly5gsOHD8Pa2hqxsbEafc6srCy89tprGDZsGPLy8jBnzhw0btwYkyZNAnBvv4hly5YhLCwMRUVFGDp0KJycnHDt2jWcOHEC165dw4oVK+p8DltbW3Tv3h2LFi2CXC6Hl5cXDhw4gISEBDRs2FBp3uqzpq9atQo2NjawtLSEt7c3HBwcEBoaijFjxmDSpEl45ZVXcPHiRSxcuLDe53nSxGsB7q2VePnllxEREYHi4mLMnTsXlpaWiI6OVpl36tSpGDFiBCQSieJ7+iiqT1NQl7Fjx+Kzzz5DWFgYLly4gLZt2yI9PR3z58/Hiy++qPJeVR9t27YFACxduhRhYWEwNzdHq1atHvvkidrIWl9jxozBmDFj6pwnMDAQ9vb2mDhxIubOnQtzc3N89dVXSpszHyYpKQmff/45Bg8erDjjffWpQF544YXHfRl6g8XHwCQkJMDCwgLjxo2rcbpcLsfLL7+MrVu34sqVK3B2dkafPn3g7u6u+JB4cL8La2tr/PLLL1iwYAFWrVqFnJwcyGQyeHh4oE+fPoo1DnXp3bs31q5diw8//BADBw5E48aNERERAScnJ0yYMEFp3sTERLi6uiIhIQEff/wxOnTogG+++Qb9+vVT+lBxdXVFVlYW3n//fSxatAh///03bGxs4O3trfiANQampqbYuXMnIiMjMXHiREilUowcORLLly/XizNER0dHw8fHB0uXLsWmTZtQVlYGFxcXdO7cGRMnTtT48yUkJGDjxo0YOXIkysrK0KtXLyxdulRpP6ExY8bAw8MDCxcuxBtvvIHS0lLFDt617SPxoK+//hpTp07FrFmzUFFRgaCgIKSmpqp8z729vfHJJ59g6dKl6NmzJyorK5GYmIjw8HCMHj0aly9fxsqVK5GYmAhfX1+sWLFCrTKoidcyf/58ZGZmYty4cSgpKcGzzz6LzZs3K85ZdL/BgwdDKpWiV69eaNGiRb1zPgpLS0vs27cPc+bMwaJFi3Dt2jU0btwYM2bMwNy5cx9pmT179kR0dDTWr1+P1atXo6qqCvv27XvsS2VoI6smOTg4IDk5GW+++SbGjBkDa2trDBo0SGXtel1atGiBhg0bYuHChbh8+TIsLCzQqlUrrFu3zqB2D3gYiRA1XMSI6Ak7ePAggoKC8NVXX2H06NG6jkN6aN26dRg3bhwyMzPh7++v6zhPrZ07d+Kll15CcnKy0hF4RE8LrvGhJy41NRUZGRnw8/ODTCbDiRMnsGDBArRo0QJDhgzRdTwio5SdnY2LFy/izTffRIcOHZROs0D0NGHxoSfO1tYWKSkp+OSTT1BaWgq5XI7+/fsjPj5e5VBnInoyJk2ahP/973/o1KkT1q9fzyt/01OLm7qIiIjIaDyVZ27+/PPP4e3tDUtLS/j5+eGXX37RdSQiIiLSA09d8dmyZQumTZuGOXPm4NixY3juuefQv39/5Obm6joaERER6dhTt6mrS5cu6NSpk9K5LVq3bo3BgwcrLuNARERExump2rn57t27OHLkiMpptfv27YuDBw/W+JiysjKlU8pXVVWhqKgIDg4O3LmPiIjIQAghUFpaCjc3N5Xz1d3vqSo+//zzDyorK1WuXePs7FzjtWoAID4+XuNnliUiIiLdyMvLq/Os/k9V8an24JqaBy8qd7/o6GhERUUp7hcXF8PDwwN5eXkqV659XJ3f/0yjy1NH5ru1X+Ol/9BPnlyQB+zaOq3O6YPsxtY5XVu+L95Q5/QhTR79VP6PY/vfn9c5vU/4sieURNXedf+tdZpv4tInmETZb+Om1jptfOaUJ5hE2drOn9Y5vepKxyeURJmJ87E6p+dc0u7ZnGvj3fjPOqdHHtX8WcLra3mnlbVO09dcANDu28VPKImyk8NmaGW5JSUlcHd3f+jlSZ6q4iOXy2Fqaqqydufq1au1XsFYKpWqXE8KuHeuGU0XH1Op7s5RU9drMTPXz1wAYCYxf0JJlD08l8UTSqLsobn09GdpItPPXObWuvk5Ag//WVbdMq1zuraYPCSXTYlujol52PfLooF+/iz1NRcAmFjp5u9S05+tD3rYbipP1VFdFhYW8PPzQ2pqqtJ49YUuiYiIyLg9VWt8ACAqKgqhoaHw9/dHQEAAVq1ahdzcXK1cLJGIiIgMy1NXfEaMGIHCwkLMmzcP+fn58PX1xY8//ghPT09dRyMiIiIde+qKD3DvmjOTJulm51MiIiLSX0/VPj5EREREdWHxISIiIqPB4kNERERGg8WHiIiIjAaLDxERERkNFh8iIiIyGiw+REREZDRYfIiIiMhosPgQERGR0WDxISIiIqPB4kNERERGg8WHiIiIjAaLDxERERkNFh8iIiIyGiw+REREZDRYfIiIiMhosPgQERGR0WDxISIiIqPB4kNERERGg8WHiIiIjAaLDxERERkNFh8iIiIyGiw+REREZDRYfIiIiMhosPgQERGR0WDxISIiIqPB4kNERERGg8WHiIiIjAaLDxERERkNFh8iIiIyGiw+REREZDQMpvjExcUhMDAQVlZWaNiwYY3z5ObmYuDAgbC2toZcLseUKVNw9+7dJxuUiIiI9JaZrgPU1927dzFs2DAEBAQgISFBZXplZSVCQkLg6OiI9PR0FBYWIiwsDEIILFu2TAeJiYiISN8YTPGJjY0FAKxbt67G6SkpKcjOzkZeXh7c3NwAAEuWLEF4eDji4uJga2v7pKISERGRnjKYTV0Pk5GRAV9fX0XpAYDg4GCUlZXhyJEjtT6urKwMJSUlSjciIiJ6Oj01xaegoADOzs5KY/b29rCwsEBBQUGtj4uPj4ednZ3i5u7uru2oREREpCM6LT4xMTGQSCR13rKysuq9PIlEojImhKhxvFp0dDSKi4sVt7y8vEd6LURERKT/dLqPT2RkJEaOHFnnPF5eXvValouLCw4dOqQ0dv36dZSXl6usCbqfVCqFVCqt13MQERGRYdNp8ZHL5ZDL5RpZVkBAAOLi4pCfnw9XV1cA93Z4lkql8PPz08hzEBERkWEzmKO6cnNzUVRUhNzcXFRWVuL48eMAgObNm6NBgwbo27cvfHx8EBoaikWLFqGoqAgzZsxAREQEj+giIiIiAAZUfN577z2sX79ecb9jx44AgH379qFnz54wNTVFcnIyJk2ahKCgIMhkMowePRqLFy/WVWQiIiLSMwZTfNatW1frOXyqeXh4ICkp6ckEIiIiIoPz1BzOTkRERPQwLD5ERERkNFh8iIiIyGiw+BAREZHRYPEhIiIio8HiQ0REREaDxYeIiIiMBosPERERGQ0WHyIiIjIaLD5ERERkNFh8iIiIyGiw+BAREZHRYPEhIiIio8HiQ0REREaDxYeIiIiMBosPERERGQ0WHyIiIjIaLD5ERERkNFh8iIiIyGiw+BAREZHRYPEhIiIio8HiQ0REREaDxYeIiIiMBosPERERGQ0WHyIiIjIaLD5ERERkNFh8iIiIyGiw+BAREZHRYPEhIiIio8HiQ0REREaDxYeIiIiMhkEUnwsXLmDChAnw9vaGTCZDs2bNMHfuXNy9e1dpvtzcXAwcOBDW1taQy+WYMmWKyjxERERkvMx0HaA+/vjjD1RVVeGLL75A8+bN8dtvvyEiIgI3b97E4sWLAQCVlZUICQmBo6Mj0tPTUVhYiLCwMAghsGzZMh2/AiIiItIHBlF8+vXrh379+inuN23aFGfOnMGKFSsUxSclJQXZ2dnIy8uDm5sbAGDJkiUIDw9HXFwcbG1tdZKdiIiI9IdBbOqqSXFxMRo1aqS4n5GRAV9fX0XpAYDg4GCUlZXhyJEjuohIREREesYg1vg86Pz581i2bBmWLFmiGCsoKICzs7PSfPb29rCwsEBBQUGtyyorK0NZWZnifklJieYDExERkV7Q6RqfmJgYSCSSOm9ZWVlKj7l8+TL69euHYcOG4bXXXlOaJpFIVJ5DCFHjeLX4+HjY2dkpbu7u7pp5cURERKR3dLrGJzIyEiNHjqxzHi8vL8XXly9fRq9evRAQEIBVq1Ypzefi4oJDhw4pjV2/fh3l5eUqa4LuFx0djaioKMX9kpISlh8iIqKnlE6Lj1wuh1wur9e8ly5dQq9eveDn54fExESYmCivrAoICEBcXBzy8/Ph6uoK4N4Oz1KpFH5+frUuVyqVQiqVPvqLICIiIoNhEPv4XL58GT179oSHhwcWL16Ma9euKaa5uLgAAPr27QsfHx+EhoZi0aJFKCoqwowZMxAREcEjuoiIiAiAgRSflJQUnDt3DufOnUOTJk2UpgkhAACmpqZITk7GpEmTEBQUBJlMhtGjRysOdyciIiIyiOITHh6O8PDwh87n4eGBpKQk7QciIiIig2Sw5/EhIiIiUheLDxERERkNFh8iIiIyGiw+REREZDRYfIiIiMhosPgQERGR0WDxISIiIqPB4kNERERGg8WHiIiIjAaLDxERERkNFh8iIiIyGiw+REREZDRYfIiIiMhosPgQERGR0WDxISIiIqPB4kNERERGQ+3is379eiQnJyvuz5o1Cw0bNkRgYCAuXryo0XBEREREmqR28Zk/fz5kMhkAICMjA8uXL8fChQshl8sxffp0jQckIiIi0hQzdR+Ql5eH5s2bAwB27NiBoUOH4vXXX0dQUBB69uyp6XxEREREGqP2Gp8GDRqgsLAQAJCSkoI+ffoAACwtLXH79m3NpiMiIiLSILXX+Lzwwgt47bXX0LFjR5w9exYhISEAgNOnT8PLy0vT+YiIiIg0Ru01Pp999hkCAgJw7do1bNu2DQ4ODgCAI0eOYNSoURoPSERERKQpaq/xadiwIZYvX64yHhsbq5FARERERNqidvH5+eef65zevXv3Rw5DREREpE1qF5+ajtySSCSKrysrKx8rEBEREZG2qL2Pz/Xr15VuV69exe7du9G5c2ekpKRoIyMRERGRRqi9xsfOzk5l7IUXXoBUKsX06dNx5MgRjQQjIiIi0jSNXavL0dERZ86c0dTiiIiIiDRO7TU+J0+eVLovhEB+fj4WLFiA9u3baywYERERkaapXXw6dOgAiUQCIYTSeNeuXbF27VqNBSMiIiLSNLWLT05OjtJ9ExMTODo6wtLSUmOhiIiIiLRB7eLj6empjRxEREREWlev4vPpp5/i9ddfh6WlJT799NM6550yZYpGgj3opZdewvHjx3H16lXY29ujT58++PDDD+Hm5qaYJzc3F5MnT0ZaWhpkMhlGjx6NxYsXw8LCQiuZiIiIyLDUq/h8/PHHePXVV2FpaYmPP/641vkkEonWik+vXr3w9ttvw9XVFZcuXcKMGTMwdOhQHDx4EMC9EyeGhITA0dER6enpKCwsRFhYGIQQWLZsmVYyERERkWGpV/G5f7+eB/fxeVKmT5+u+NrT0xOzZ8/G4MGDUV5eDnNzc6SkpCA7Oxt5eXmKtUBLlixBeHg44uLiYGtrq5PcREREpD8e+zw+lZWVOH78OK5fv66JPPVSVFSEr776CoGBgTA3NwcAZGRkwNfXV2nTV3BwMMrKyuo8qWJZWRlKSkqUbkRERPR0Urv4TJs2DQkJCQDulZ7u3bujU6dOcHd3x/79+zWdT8lbb70Fa2trODg4IDc3F99//71iWkFBAZydnZXmt7e3h4WFBQoKCmpdZnx8POzs7BQ3d3d3reUnIiIi3VK7+GzdulVxosKdO3fiwoUL+OOPPzBt2jTMmTNHrWXFxMRAIpHUecvKylLMP3PmTBw7dgwpKSkwNTXF2LFjlc4ndP/FUqsJIWocrxYdHY3i4mLFLS8vT63XQERERIZD7cPZ//nnH7i4uAAAfvzxRwwbNgwtW7bEhAkTHnrE14MiIyMxcuTIOufx8vJSfC2XyyGXy9GyZUu0bt0a7u7u+PXXXxEQEAAXFxccOnRI6bHXr19HeXm5ypqg+0mlUkilUrVyExERkWFSu/g4OzsjOzsbrq6u2L17Nz7//HMAwK1bt2BqaqrWsqqLzKOoXtNTVlYGAAgICEBcXBzy8/Ph6uoKAEhJSYFUKoWfn98jPQcRERE9XdQuPuPGjcPw4cPh6uoKiUSCF154AQBw6NAhPPPMMxoPCACHDx/G4cOH0a1bN9jb2+Ovv/7Ce++9h2bNmiEgIAAA0LdvX/j4+CA0NBSLFi1CUVERZsyYgYiICB7RRURERAAeofjExMTA19cXeXl5GDZsmGIzkampKWbPnq3xgAAgk8mwfft2zJ07Fzdv3oSrqyv69euHzZs3Kz1/cnIyJk2ahKCgIKUTGBIREREBj1B8AGDo0KEqY2FhYY8dpjZt27ZFWlraQ+fz8PBAUlKS1nIQERGRYav3JSvqS1tnbiYiIiJ6XPW+ZEV9aPOSFURERESPS+1LVhAREREZqke+ZMXdu3dx5swZVFRUaDIPERERkdaoXXxu3bqFCRMmwMrKCm3atEFubi6Ae/v2LFiwQOMBiYiIiDRF7eITHR2NEydOYP/+/bC0tFSM9+nTB1u2bNFoOCIiIiJNUvtw9h07dmDLli3o2rWr0jWwfHx8cP78eY2GIyIiItIktdf4XLt2DU5OTirjN2/erPNioERERES6pnbx6dy5M5KTkxX3q8vO6tWrFZePICIiItJHam/qio+PR79+/ZCdnY2KigosXboUp0+fRkZGBg4cOKCNjEREREQaofYan8DAQPzvf//DrVu30KxZM6SkpMDZ2RkZGRm8CjoRERHptUe6Vlfbtm2xfv16TWchIiIi0qp6r/G5fPkyZsyYgZKSEpVpxcXFmDlzJq5cuaLRcERERESaVO/i89FHH6GkpAS2trYq0+zs7FBaWoqPPvpIo+GIiIiINKnexWf37t0YO3ZsrdPHjh2LpKQkjYQiIiIi0oZ6F5+cnBx4eHjUOr1Jkya4cOGCJjIRERERaUW9i49MJquz2Fy4cAEymUwTmYiIiIi0ot7Fp0uXLti4cWOt0zds2IBnn31WI6GIiIiItKHeh7PPmDEDL7zwAuzs7DBz5kw4OzsDAK5cuYKFCxdi3bp1SElJ0VpQIiIiosdV7+LTq1cvfPbZZ5g6dSo+/vhj2NraQiKRoLi4GObm5li2bBl69+6tzaxEREREj0WtExi+8cYbGDBgAL755hucO3cOQgi0bNkSQ4cORZMmTbSVkYiIiEgj1D5zc+PGjTF9+nRtZCEiIiLSKrWv1UVERERkqFh8iIiIyGiw+BAREZHRYPEhIiIio6H2zs3V7t69i6tXr6KqqkppvK7LWhARERHpktrF588//8T48eNx8OBBpXEhBCQSCSorKzUWjoiIiEiT1C4+4eHhMDMzQ1JSElxdXSGRSLSRi4iIiEjj1C4+x48fx5EjR/DMM89oIw8RERGR1qi9c7OPjw/++ecfbWQhIiIi0iq1i8+HH36IWbNmYf/+/SgsLERJSYnSTdvKysrQoUMHSCQSHD9+XGlabm4uBg4cCGtra8jlckyZMgV3797VeiYiIiIyDGpv6urTpw8A4Pnnn1caf1I7N8+aNQtubm44ceKE0nhlZSVCQkLg6OiI9PR0FBYWIiwsDEIILFu2TKuZiIiIyDCoXXz27dunjRz1smvXLqSkpGDbtm3YtWuX0rSUlBRkZ2cjLy8Pbm5uAIAlS5YgPDwccXFxsLW11UVkIiIi0iNqF58ePXpoI8dDXblyBREREdixYwesrKxUpmdkZMDX11dRegAgODgYZWVlOHLkCHr16lXjcsvKylBWVqa4/yQ21xEREZFu1Kv4nDx5Er6+vjAxMcHJkyfrnLddu3YaCXY/IQTCw8MxceJE+Pv748KFCyrzFBQUwNnZWWnM3t4eFhYWKCgoqHXZ8fHxiI2N1XRkIiIi0kP1Kj4dOnRAQUEBnJycFDsWCyFU5lN3H5+YmJiHlo7MzEwcPHgQJSUliI6OrnPems4pVL3vUW2io6MRFRWluF9SUgJ3d/eHJCciIiJDVK/ik5OTA0dHR8XXmhIZGYmRI0fWOY+Xlxc++OAD/Prrr5BKpUrT/P398eqrr2L9+vVwcXHBoUOHlKZfv34d5eXlKmuC7ieVSlWWS0RERE+nehUfT0/PGr9+XHK5HHK5/KHzffrpp/jggw8U9y9fvozg4GBs2bIFXbp0AQAEBAQgLi4O+fn5cHV1BXBvh2epVAo/Pz+NZSYiIiLD9cgXKX2SHrzwaYMGDQAAzZo1Q5MmTQAAffv2hY+PD0JDQ7Fo0SIUFRVhxowZiIiI4BFdREREBOARTmCor0xNTZGcnAxLS0sEBQVh+PDhGDx4MBYvXqzraERERKQnDGKNz4O8vLxq3Lnaw8MDSUlJOkhEREREhuCpWeNDRERE9DCPVHxu3LiBNWvWIDo6GkVFRQCAo0eP4tKlSxoNR0RERKRJam/qOnnyJPr06QM7OztcuHABERERaNSoEb777jtcvHgRGzZs0EZOIiIiosem9hqfqKgohIeH488//4SlpaVivH///vj55581Go6IiIhIk9QuPpmZmXjjjTdUxhs3blznpSGIiIiIdE3t4mNpaVnjhTzPnDmjOLszERERkT5Su/gMGjQI8+bNQ3l5OYB718fKzc3F7Nmz8corr2g8IBEREZGmqF18Fi9ejGvXrsHJyQm3b99Gjx490Lx5c9jY2CAuLk4bGYmIiIg0Qu2jumxtbZGeno60tDQcPXoUVVVV6NSpE/r06aONfEREREQao1bxqaiogKWlJY4fP47evXujd+/e2spFREREpHFqbeoyMzODp6cnKisrtZWHiIiISGvU3sfnnXfeUTpjMxEREZGhUHsfn08//RTnzp2Dm5sbPD09YW1trTT96NGjGgtHREREpElqF5/BgwdrIQYRERGR9qldfObOnauNHERERERa90hXZyciIiIyRGqv8TExMYFEIql1Oo/4IiIiIn2ldvH57rvvlO6Xl5fj2LFjWL9+PWJjYzUWjIiIiEjT1C4+gwYNUhkbOnQo2rRpgy1btmDChAkaCUZERESkaRrbx6dLly7Yu3evphZHREREpHEaKT63b9/GsmXL0KRJE00sjoiIiEgr1N7UZW9vr7RzsxACpaWlsLKywpdffqnRcERERESapHbx+fjjj5WKj4mJCRwdHdGlSxfY29trNBwRERGRJqldfHr37g13d/caD2nPzc2Fh4eHRoIRERERaZra+/h4e3vj2rVrKuOFhYXw9vbWSCgiIiIibVC7+Aghahz/999/YWlp+diBiIiIiLSl3pu6oqKiAAASiQTvvfcerKysFNMqKytx6NAhdOjQQeMBiYiIiDSl3sXn2LFjAO6t8Tl16hQsLCwU0ywsLNC+fXvMmDFD8wmJiIiINKTexWffvn0AgHHjxmHp0qWwtbXVWigiIiIibVD7qK7ExERt5CAiIiLSOrWLDwBkZmbi22+/RW5uLu7evas0bfv27RoJRkRERKRpah/VtXnzZgQFBSE7OxvfffcdysvLkZ2djbS0NNjZ2WkjIwDAy8sLEolE6TZ79myleXJzczFw4EBYW1tDLpdjypQpKsWMiIiIjJfaa3zmz5+Pjz/+GJMnT4aNjQ2WLl0Kb29vvPHGG3B1ddVGRoV58+YhIiJCcb9BgwaKrysrKxESEgJHR0ekp6ejsLAQYWFhEEJg2bJlWs1FREREhkHt4nP+/HmEhIQAAKRSKW7evAmJRILp06ejd+/eiI2N1XjIajY2NnBxcalxWkpKCrKzs5GXlwc3NzcAwJIlSxAeHo64uDjujE1ERETqb+pq1KgRSktLAQCNGzfGb7/9BgC4ceMGbt26pdl0D/jwww/h4OCADh06IC4uTmkzVkZGBnx9fRWlBwCCg4NRVlaGI0eO1LrMsrIylJSUKN2IiIjo6aT2Gp/nnnsOqampaNu2LYYPH46pU6ciLS0NqampeP7557WREQAwdepUdOrUCfb29jh8+DCio6ORk5ODNWvWAAAKCgrg7Oys9Bh7e3tYWFigoKCg1uXGx8drdS0VERER6Q+1i8/y5ctx584dAEB0dDTMzc2Rnp6OIUOG4N1331VrWTExMQ8tHZmZmfD398f06dMVY+3atYO9vT2GDh2qWAsEoMYLpwohahyvFh0drTgrNQCUlJTA3d1drddBREREhkGt4lNRUYGdO3ciODgYAGBiYoJZs2Zh1qxZj/TkkZGRGDlyZJ3zeHl51TjetWtXAMC5c+fg4OAAFxcXHDp0SGme69evo7y8XGVN0P2kUimkUql6wYmIiMggqVV8zMzM8J///Ae///67Rp5cLpdDLpc/0mOrL6FRfSRZQEAA4uLikJ+frxhLSUmBVCqFn5+fRvISERGRYVN7U1eXLl1w7NgxeHp6aiNPjTIyMvDrr7+iV69esLOzQ2ZmJqZPn46XXnoJHh4eAIC+ffvCx8cHoaGhWLRoEYqKijBjxgxERETwiC4iIiIC8AjFZ9KkSXjzzTfx999/w8/PD9bW1krT27Vrp7Fw1aRSKbZs2YLY2FiUlZXB09MTERERSpvYTE1NkZycjEmTJiEoKAgymQyjR4/G4sWLNZ6HiIiIDJPaxWfEiBEAgClTpijGJBKJYifiyspKzaX7/zp16oRff/31ofN5eHggKSlJ489PRERETwe1i09OTo42chARERFpndrF50nu20NERESkSWqfuRkANm7ciKCgILi5ueHixYsAgE8++QTff/+9RsMRERERaZLaxWfFihWIiorCiy++iBs3bij26WnYsCE++eQTTecjIiIi0hi1i8+yZcuwevVqzJkzB6ampopxf39/nDp1SqPhiIiIiDRJ7eKTk5ODjh07qoxXX6mdiIiISF+pXXy8vb1x/PhxlfFdu3bBx8dHE5mIiIiItELto7pmzpyJyZMn486dOxBC4PDhw9i0aRPi4+MVV0onIiIi0kdqF59x48ahoqICs2bNwq1btzB69Gg0btwYS5cufegFR4mIiIh0Se3iAwARERGIiIjAP//8g6qqKjg5OWk6FxEREZHGPVLxAYCrV6/izJkzkEgkkEgkcHR01GQuIiIiIo1Te+fmkpIShIaGws3NDT169ED37t3h5uaGMWPGoLi4WBsZiYiIiDRC7eLz2muv4dChQ0hOTsaNGzdQXFyMpKQkZGVlISIiQhsZiYiIiDRC7U1dycnJ2LNnD7p166YYCw4OxurVq9GvXz+NhiMiIiLSJLXX+Dg4OMDOzk5l3M7ODvb29hoJRURERKQNahefd955B1FRUcjPz1eMFRQUYObMmXj33Xc1Go6IiIhIk9Te1LVixQqcO3cOnp6e8PDwAADk5uZCKpXi2rVr+OKLLxTzHj16VHNJiYiIiB6T2sVn8ODBWohBREREpH1qF5+5c+dqIwcRERGR1j3yCQwB4N9//0VVVZXSmK2t7WMFIiIiItIWtXduzsnJQUhICKytrRVHctnb26Nhw4Y8qouIiIj0mtprfF599VUAwNq1a+Hs7AyJRKLxUERERETaoHbxOXnyJI4cOYJWrVppIw8RERGR1qi9qatz587Iy8vTRhYiIiIirVJ7jc+aNWswceJEXLp0Cb6+vjA3N1ea3q5dO42FIyIiItIktYvPtWvXcP78eYwbN04xJpFIIISARCJBZWWlRgMSERERaYraxWf8+PHo2LEjNm3axJ2biYiIyKCoXXwuXryIH374Ac2bN9dGHiIiIiKtUXvn5t69e+PEiRPayEJERESkVWqv8Rk4cCCmT5+OU6dOoW3btio7N7/00ksaC0dERESkSWoXn4kTJwIA5s2bpzKNOzcTERGRPlN7U1dVVVWtN22XnuTkZHTp0gUymQxyuRxDhgxRmp6bm4uBAwfC2toacrkcU6ZMwd27d7WaiYiIiAzHY12k9M6dO7C0tNRUljpt27YNERERmD9/Pnr37g0hBE6dOqWYXllZiZCQEDg6OiI9PR2FhYUICwuDEALLli17IhmJiIhIv6ldfCorKzF//nysXLkSV65cwdmzZ9G0aVO8++678PLywoQJEzQesqKiAlOnTsWiRYuUln//ZTNSUlKQnZ2NvLw8uLm5AQCWLFmC8PBwxMXF8arxREREpP6mrri4OKxbtw4LFy6EhYWFYrxt27ZYs2aNRsNVO3r0KC5dugQTExN07NgRrq6u6N+/P06fPq2YJyMjA76+vorSAwDBwcEoKyvDkSNHtJKLiIiIDIvaxWfDhg1YtWoVXn31VZiamirG27Vrhz/++EOj4ar99ddfAICYmBi88847SEpKgr29PXr06IGioiIAQEFBAZydnZUeZ29vDwsLCxQUFNS67LKyMpSUlCjdiIiI6OmkdvG5dOlSjScvrKqqQnl5uVrLiomJgUQiqfOWlZWFqqoqAMCcOXPwyiuvwM/PD4mJiZBIJPj2228Vy6vpLNLVl9KoTXx8POzs7BQ3d3d3tV4DERERGQ619/Fp06YNfvnlF3h6eiqNf/vtt+jYsaNay4qMjMTIkSPrnMfLywulpaUAAB8fH8W4VCpF06ZNkZubCwBwcXHBoUOHlB57/fp1lJeXq6wJul90dDSioqIU90tKSlh+iIiInlL1Lj7jx4/H0qVLMXfuXISGhuLSpUuoqqrC9u3bcebMGWzYsAFJSUlqPblcLodcLn/ofH5+fpBKpThz5gy6desGACgvL8eFCxcUBSwgIABxcXHIz8+Hq6srgHs7PEulUvj5+dW6bKlUCqlUqlZuIiIiMkz13tS1fv163L59GwMHDsSWLVvw448/QiKR4L333sPvv/+OnTt34oUXXtBKSFtbW0ycOBFz585FSkoKzpw5g//85z8AgGHDhgEA+vbtCx8fH4SGhuLYsWP46aefMGPGDERERPCILiIiIgKgxhofIYTi6+DgYAQHB2slUG0WLVoEMzMzhIaG4vbt2+jSpQvS0tJgb28PADA1NUVycjImTZqEoKAgyGQyjB49GosXL36iOYmIiEh/qbWPT107CWububk5Fi9eXGeR8fDwUHtzGxERERkPtYpPy5YtH1p+qg8vJyIiItI3ahWf2NhY2NnZaSsLERERkVapVXxGjhwJJycnbWUhIiIi0qp6H9Wly/17iIiIiDSh3sXn/qO6iIiIiAxRvTd1VV82goiIiMhQqX2tLiIiIiJDxeJDRERERoPFh4iIiIwGiw8REREZDRYfIiIiMhosPkRERGQ0WHyIiIjIaLD4EBERkdFg8SEiIiKjweJDRERERoPFh4iIiIwGiw8REREZDRYfIiIiMhosPkRERGQ0WHyIiIjIaLD4EBERkdFg8SEiIiKjweJDRERERoPFh4iIiIwGiw8REREZDRYfIiIiMhosPkRERGQ0WHyIiIjIaJjpOgAREakycTmr6whETyWu8SEiIiKjweJDRERERsMgNnXt378fvXr1qnHa4cOH0blzZwBAbm4uJk+ejLS0NMhkMowePRqLFy+GhYXFk4xLRPTUatokX9cRiB6LQRSfwMBA5Ocr/7G9++672Lt3L/z9/QEAlZWVCAkJgaOjI9LT01FYWIiwsDAIIbBs2TJdxCYiIiI9YxDFx8LCAi4uLor75eXl+OGHHxAZGQmJRAIASElJQXZ2NvLy8uDm5gYAWLJkCcLDwxEXFwdbW1udZCciIiL9YZD7+Pzwww/4559/EB4erhjLyMiAr6+vovQAQHBwMMrKynDkyJFal1VWVoaSkhKlGxERET2dDLL4JCQkIDg4GO7u7oqxgoICODs7K81nb28PCwsLFBQU1Lqs+Ph42NnZKW73L5OIiIieLjotPjExMZBIJHXesrKylB7z999/Y8+ePZgwYYLK8qo3e91PCFHjeLXo6GgUFxcrbnl5eY//woiIiEgv6XQfn8jISIwcObLOeby8vJTuJyYmwsHBAS+99JLSuIuLCw4dOqQ0dv36dZSXl6usCbqfVCqFVCpVLzgREREZJJ0WH7lcDrlcXu/5hRBITEzE2LFjYW5urjQtICAAcXFxyM/Ph6urK4B7OzxLpVL4+flpNDcREREZJoPaxyctLQ05OTk1bubq27cvfHx8EBoaimPHjuGnn37CjBkzEBERwSO6iIiICICBFZ+EhAQEBgaidevWKtNMTU2RnJwMS0tLBAUFYfjw4Rg8eDAWL16sg6RERESkjwziPD7Vvv766zqne3h4ICkp6QmlISIiIkNjUGt8iIiIiB6HQa3xISIiqska/3W6jlAjfc1lzLjGh4iIiIwG1/gQkdHa1HWVriMQ0RPGNT5ERERkNFh8iIiIyGiw+BAREZHRYPEhIiIio8HiQ0REREaDxYeIiIiMBosPERERGQ0WHyIiIjIaPIEhERGREfpr1Nu6jqATXONDRERERoPFh4iIiIwGN3URkdZdeH2mriMQEQHgGh8iIiIyIiw+REREZDRYfIiIiMhosPgQERGR0WDxISIiIqPB4kNERERGg8WHiIiIjAbP4/MEZX8wXdcRiIiIjBrX+BAREZHRYPEhIiIio8HiQ0REREaDxYeIiIiMBosPERERGQ0WHyIiIjIaLD5ERERkNAym+Jw9exaDBg2CXC6Hra0tgoKCsG/fPqV5cnNzMXDgQFhbW0Mul2PKlCm4e/eujhITERGRvjGYExiGhISgZcuWSEtLg0wmwyeffIIBAwbg/PnzcHFxQWVlJUJCQuDo6Ij09HQUFhYiLCwMQggsW7ZM1/GJnoiDW97UdQQiIr1mEGt8/vnnH5w7dw6zZ89Gu3bt0KJFCyxYsAC3bt3C6dOnAQApKSnIzs7Gl19+iY4dO6JPnz5YsmQJVq9ejZKSEh2/AiIiItIHBlF8HBwc0Lp1a2zYsAE3b95ERUUFvvjiCzg7O8PPzw8AkJGRAV9fX7i5uSkeFxwcjLKyMhw5cqTWZZeVlaGkpETpRkRERE8ng9jUJZFIkJqaikGDBsHGxgYmJiZwdnbG7t270bBhQwBAQUEBnJ2dlR5nb28PCwsLFBQU1Lrs+Ph4xMbGajO+3juQPEvXEYiIiJ4Ina7xiYmJgUQiqfOWlZUFIQQmTZoEJycn/PLLLzh8+DAGDRqEAQMGID8/X7E8iUSi8hxCiBrHq0VHR6O4uFhxy8vL08prJSIiIt3T6RqfyMhIjBw5ss55vLy8kJaWhqSkJFy/fh22trYAgM8//xypqalYv349Zs+eDRcXFxw6dEjpsdevX0d5ebnKmqD7SaVSSKXSx38xREREpPd0WnzkcjnkcvlD57t16xYAwMREeQWViYkJqqqqAAABAQGIi4tDfn4+XF1dAdzb4VkqlSr2AyIiIiLjZhA7NwcEBMDe3h5hYWE4ceIEzp49i5kzZyInJwchISEAgL59+8LHxwehoaE4duwYfvrpJ8yYMQMRERGKtURERERk3Ayi+MjlcuzevRv//vsvevfuDX9/f6Snp+P7779H+/btAQCmpqZITk6GpaUlgoKCMHz4cAwePBiLFy/WcXoiIiLSFwZxVBcA+Pv7Y8+ePXXO4+HhgaSkpCeUiIiIiAyNQazxISIiItIEFh8iIiIyGiw+REREZDRYfIiIiMhosPgQERGR0TCYo7qI9Mnu4rW6jkBERI+Aa3yIiIjIaHCND+m11KpvdR2BiIieIlzjQ0REREaDxYeIiIiMBosPERERGQ0WHyIiIjIaLD5ERERkNFh8iIiIyGiw+BAREZHRYPEhIiIio8HiQ0REREaDxYeIiIiMBosPERERGQ0WHyIiIjIaLD5ERERkNFh8iIiIyGiw+BAREZHRYPEhIiIio2Gm6wD6RggBACgpKdFxEiIiIqqv6s/t6s/x2rD4PKC0tBQA4O7uruMkREREpK7S0lLY2dnVOl0iHlaNjExVVRUuX74MGxsbSCQSXccBcK/Furu7Iy8vD7a2trqOo0RfszGXevQ1F6C/2ZhLPcylPn3Npq+5hBAoLS2Fm5sbTExq35OHa3weYGJigiZNmug6Ro1sbW316pfsfvqajbnUo6+5AP3NxlzqYS716Ws2fcxV15qeaty5mYiIiIwGiw8REREZDRYfAyCVSjF37lxIpVJdR1Ghr9mYSz36mgvQ32zMpR7mUp++ZtPXXPXFnZuJiIjIaHCNDxERERkNFh8iIiIyGiw+REREZDRYfIiIiMhosPjouZ9//hkDBw6Em5sbJBIJduzYoetIiI+PR+fOnWFjYwMnJycMHjwYZ86c0XUsAMCKFSvQrl07xYm1AgICsGvXLl3HUhIfHw+JRIJp06bpOgpiYmIgkUiUbi4uLrqOBQC4dOkSxowZAwcHB1hZWaFDhw44cuSITjN5eXmpfL8kEgkmT56s01wAUFFRgXfeeQfe3t6QyWRo2rQp5s2bh6qqKl1HQ2lpKaZNmwZPT0/IZDIEBgYiMzPziWZ42HupEAIxMTFwc3ODTCZDz549cfr0aZ3n2r59O4KDgyGXyyGRSHD8+HGtZ6pPtvLycrz11lto27YtrK2t4ebmhrFjx+Ly5ctPLN+jYvHRczdv3kT79u2xfPlyXUdROHDgACZPnoxff/0VqampqKioQN++fXHz5k1dR0OTJk2wYMECZGVlISsrC71798agQYOeyBtYfWRmZmLVqlVo166drqMotGnTBvn5+YrbqVOndB0J169fR1BQEMzNzbFr1y5kZ2djyZIlaNiwoU5zZWZmKn2vUlNTAQDDhg3TaS4A+PDDD7Fy5UosX74cv//+OxYuXIhFixZh2bJluo6G1157Dampqdi4cSNOnTqFvn37ok+fPrh06dITy/Cw99KFCxfio48+wvLly5GZmQkXFxe88MILius36irXzZs3ERQUhAULFmg1R23PXVu2W7du4ejRo3j33Xdx9OhRbN++HWfPnsVLL730xHOqTZDBACC+++47XcdQcfXqVQFAHDhwQNdRamRvby/WrFmj6xiitLRUtGjRQqSmpooePXqIqVOn6jqSmDt3rmjfvr2uY6h46623RLdu3XQd46GmTp0qmjVrJqqqqnQdRYSEhIjx48crjQ0ZMkSMGTNGR4nuuXXrljA1NRVJSUlK4+3btxdz5szRSaYH30urqqqEi4uLWLBggWLszp07ws7OTqxcuVJnue6Xk5MjAIhjx449sTz3q8/nz+HDhwUAcfHixScT6hFxjQ89tuLiYgBAo0aNdJxEWWVlJTZv3oybN28iICBA13EwefJkhISEoE+fPrqOouTPP/+Em5sbvL29MXLkSPz111+6joQffvgB/v7+GDZsGJycnNCxY0esXr1a17GU3L17F19++SXGjx+vFxc07tatG3766SecPXsWAHDixAmkp6fjxRdf1GmuiooKVFZWwtLSUmlcJpMhPT1dR6mU5eTkoKCgAH379lWMSaVS9OjRAwcPHtRhMsNSXFwMiUSi8zWzD8OLlNJjEUIgKioK3bp1g6+vr67jAABOnTqFgIAA3LlzBw0aNMB3330HHx8fnWbavHkzjh49+sT3a3iYLl26YMOGDWjZsiWuXLmCDz74AIGBgTh9+jQcHBx0luuvv/7CihUrEBUVhbfffhuHDx/GlClTIJVKMXbsWJ3lut+OHTtw48YNhIeH6zoKAOCtt95CcXExnnnmGZiamqKyshJxcXEYNWqUTnPZ2NggICAA77//Plq3bg1nZ2ds2rQJhw4dQosWLXSarVpBQQEAwNnZWWnc2dkZFy9e1EUkg3Pnzh3Mnj0bo0eP1rsLlz6IxYceS2RkJE6ePKk3/7kBQKtWrXD8+HHcuHED27ZtQ1hYGA4cOKCz8pOXl4epU6ciJSVF5b9eXevfv7/i67Zt2yIgIADNmjXD+vXrERUVpbNcVVVV8Pf3x/z58wEAHTt2xOnTp7FixQq9KT4JCQno378/3NzcdB0FALBlyxZ8+eWX+Prrr9GmTRscP34c06ZNg5ubG8LCwnSabePGjRg/fjwaN24MU1NTdOrUCaNHj8bRo0d1mutBD665E0Loxdo8fVdeXo6RI0eiqqoKn3/+ua7jPBSLDz2y//73v/jhhx/w888/o0mTJrqOo2BhYYHmzZsDAPz9/ZGZmYmlS5fiiy++0EmeI0eO4OrVq/Dz81OMVVZW4ueff8by5ctRVlYGU1NTnWR7kLW1Ndq2bYs///xTpzlcXV1Vimrr1q2xbds2HSVSdvHiRezduxfbt2/XdRSFmTNnYvbs2Rg5ciSAe0X24sWLiI+P13nxadasGQ4cOICbN2+ipKQErq6uGDFiBLy9vXWaq1r1kYwFBQVwdXVVjF+9elVlLRApKy8vx/Dhw5GTk4O0tDS9X9sD8KguegRCCERGRmL79u1IS0vTmzev2gghUFZWprPnf/7553Hq1CkcP35ccfP398err76K48eP603pAYCysjL8/vvvSm/+uhAUFKRyioSzZ8/C09NTR4mUJSYmwsnJCSEhIbqOonDr1i2YmCi/pZuamurF4ezVrK2t4erqiuvXr2PPnj0YNGiQriMBALy9veHi4qI4Sg+4tw/XgQMHEBgYqMNk+q269Pz555/Yu3evTjePq4NrfPTcv//+i3Pnzinu5+Tk4Pjx42jUqBE8PDx0kmny5Mn4+uuv8f3338PGxkaxfdzOzg4ymUwnmaq9/fbb6N+/P9zd3VFaWorNmzdj//792L17t84y2djYqOz/ZG1tDQcHB53vFzVjxgwMHDgQHh4euHr1Kj744AOUlJTofA3B9OnTERgYiPnz52P48OE4fPgwVq1ahVWrVuk0F3BvM1xiYiLCwsJgZqY/b6EDBw5EXFwcPDw80KZNGxw7dgwfffQRxo8fr+to2LNnD4QQaNWqFc6dO4eZM2eiVatWGDdu3BPL8LD30mnTpmH+/Plo0aIFWrRogfnz58PKygqjR4/Waa6ioiLk5uYqzo9T/Q+Bi4uL1s+5VVc2Nzc3DB06FEePHkVSUhIqKysVnwWNGjWChYWFVrM9Fp0eU0YPtW/fPgFA5RYWFqazTDXlASASExN1lqna+PHjhaenp7CwsBCOjo7i+eefFykpKbqOpUJfDmcfMWKEcHV1Febm5sLNzU0MGTJEnD59WtexhBBC7Ny5U/j6+gqpVCqeeeYZsWrVKl1HEkIIsWfPHgFAnDlzRtdRlJSUlIipU6cKDw8PYWlpKZo2bSrmzJkjysrKdB1NbNmyRTRt2lRYWFgIFxcXMXnyZHHjxo0nmuFh76VVVVVi7ty5wsXFRUilUtG9e3dx6tQpnedKTEyscfrcuXN1mq368Pqabvv27dN6tschEUIIbRYrIiIiIn3BfXyIiIjIaLD4EBERkdFg8SEiIiKjweJDRERERoPFh4iIiIwGiw8REREZDRYfIiIiMhosPkREDyGRSLBjxw5dxyAiDWDxISK9FR4eDolEgokTJ6pMmzRpEiQSCcLDwzX2fDExMejQoYPGlkdE+ofFh4j0mru7OzZv3ozbt28rxu7cuYNNmzbp7Hp1RGS4WHyISK916tQJHh4e2L59u2Js+/btcHd3R8eOHRVjZWVlmDJlCpycnGBpaYlu3bohMzNTMX3//v2QSCT46aef4O/vDysrKwQGBiou+rhu3TrExsbixIkTkEgkkEgkWLduneLx//zzD15++WVYWVmhRYsW+OGHH7T/4olI41h8iEjvjRs3DomJiYr7a9euVbnq+KxZs7Bt2zasX78eR48eRfPmzREcHIyioiKl+ebMmYMlS5YgKysLZmZmiuWMGDECb775Jtq0aYP8/Hzk5+djxIgRisfFxsZi+PDhOHnyJF588UW8+uqrKssmIv3H4kNEei80NBTp6em4cOECLl68iP/9738YM2aMYvrNmzexYsUKLFq0CP3794ePjw9Wr14NmUyGhIQEpWXFxcWhR48e8PHxwezZs3Hw4EHcuXMHMpkMDRo0gJmZGVxcXODi4gKZTKZ4XHh4OEaNGoXmzZtj/vz5uHnzJg4fPvzEvgdEpBlmug5ARPQwcrkcISEhWL9+PYQQCAkJgVwuV0w/f/48ysvLERQUpBgzNzfHs88+i99//11pWe3atVN87erqCgC4evXqQ/cXuv9x1tbWsLGxwdWrVx/rdRHRk8fiQ0QGYfz48YiMjAQAfPbZZ0rThBAA7h12/uD4g2Pm5uaKr6unVVVVPfT5739c9WPr8zgi0i/c1EVEBqFfv364e/cu7t69i+DgYKVpzZs3h4WFBdLT0xVj5eXlyMrKQuvWrev9HBYWFqisrNRYZiLSP1zjQ0QGwdTUVLHZytTUVGmatbU1/vOf/2DmzJlo1KgRPDw8sHDhQty6dQsTJkyo93N4eXkhJycHx48fR5MmTWBjYwOpVKrR10FEusXiQ0QGw9bWttZpCxYsQFVVFUJDQ1FaWgp/f3/s2bMH9vb29V7+K6+8gu3bt6NXr164ceMGEhMTNXqCRCLSPYmo3jhORERE9JTjPj5ERERkNFh8iIiIyGiw+BAREZHRYPEhIiIio8HiQ0REREaDxYeIiIiMBosPERERGQ0WHyIiIjIaLD5ERERkNFh8iIiIyGiw+BAREZHRYPEhIiIio/H/AJzZUgel11BTAAAAAElFTkSuQmCC",
      "text/plain": [
       "<Figure size 640x480 with 1 Axes>"
      ]
     },
     "metadata": {},
     "output_type": "display_data"
    }
   ],
   "source": [
    "# Plot the average temperature by month\n",
    "\n",
    "# Normalize the temperature values for colormap mapping\n",
    "normalized_temps = (avg_min_temp_by_month.values - avg_min_temp_by_month.min()) / (avg_min_temp_by_month.max() - avg_min_temp_by_month.min())\n",
    "\n",
    "# Plot the data as a bar graph with the \"viridis\" colormap based on normalized temperatures\n",
    "plt.bar(avg_min_temp_by_month.index, avg_min_temp_by_month.values, color=plt.cm.viridis(normalized_temps))\n",
    "\n",
    "# Adding labels and title\n",
    "plt.xlabel('Month')\n",
    "plt.ylabel('Temperature in Celsius')\n",
    "plt.title('Average Minimum Temperature by Month on Mars')\n",
    "\n",
    "plt.xticks(avg_min_temp_by_month.index)\n",
    "plt.show()"
   ]
  },
  {
   "cell_type": "code",
   "execution_count": 43,
   "metadata": {},
   "outputs": [
    {
     "data": {
      "image/png": "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",
      "text/plain": [
       "<Figure size 640x480 with 1 Axes>"
      ]
     },
     "metadata": {},
     "output_type": "display_data"
    }
   ],
   "source": [
    "# Identify the coldest and hottest months in Curiosity's location\n",
    "\n",
    "# Sort the data by temperature (smallest to largest)\n",
    "avg_min_temp_by_month_sorted = avg_min_temp_by_month.sort_values()\n",
    "\n",
    "# Define a color map for the bars\n",
    "bar_colors = ['midnightblue', 'navy', 'darkblue', 'mediumblue', 'blue', 'dodgerblue', 'skyblue', 'mediumorchid', 'purple', 'mediumvioletred', 'crimson', 'red' ]\n",
    "\n",
    "# Plot the data as a bar graph\n",
    "plt.bar(range(len(avg_min_temp_by_month_sorted)), avg_min_temp_by_month_sorted.values, color=bar_colors)\n",
    "\n",
    "# Adding labels and title\n",
    "plt.xlabel('Month')\n",
    "plt.ylabel('Temperature in Celsius')\n",
    "\n",
    "\n",
    "# Set x-axis tick positions and labels\n",
    "plt.xticks(range(len(avg_min_temp_by_month_sorted)), avg_min_temp_by_month_sorted.index)\n",
    "plt.show()"
   ]
  },
  {
   "cell_type": "code",
   "execution_count": 46,
   "metadata": {},
   "outputs": [
    {
     "data": {
      "text/plain": [
       "month\n",
       "1     862.488506\n",
       "2     889.455056\n",
       "3     877.322917\n",
       "4     806.329897\n",
       "5     748.557047\n",
       "6     745.054422\n",
       "7     795.105634\n",
       "8     873.829787\n",
       "9     913.305970\n",
       "10    887.312500\n",
       "11    857.014493\n",
       "12    842.156627\n",
       "Name: pressure, dtype: float64"
      ]
     },
     "execution_count": 46,
     "metadata": {},
     "output_type": "execute_result"
    }
   ],
   "source": [
    "# 4. Average pressure by Martian month\n",
    "avg_pressure_by_month = df.groupby('month')['pressure'].mean()\n",
    "avg_pressure_by_month "
   ]
  },
  {
   "cell_type": "code",
   "execution_count": 62,
   "metadata": {},
   "outputs": [
    {
     "data": {
      "image/png": "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",
      "text/plain": [
       "<Figure size 640x480 with 1 Axes>"
      ]
     },
     "metadata": {},
     "output_type": "display_data"
    }
   ],
   "source": [
    "# Plot the average pressure by month\n",
    "# Sort the data by temperature (smallest to largest)\n",
    "avg_pressure_by_month_sorted = avg_pressure_by_month.sort_values()\n",
    "\n",
    "# Normalize the temperature values for colormap mapping\n",
    "normalized_temps = (avg_pressure_by_month.values - avg_pressure_by_month.min()) / (avg_pressure_by_month.max() - avg_pressure_by_month.min())\n",
    "\n",
    "# Plot the data as a bar graph\n",
    "plt.bar(range(len(avg_pressure_by_month_sorted)), avg_pressure_by_month_sorted.values, color=plt.cm.Spectral(normalized_temps))\n",
    "\n",
    "# Adding labels and title\n",
    "plt.xlabel('Month')\n",
    "plt.ylabel('Atmospheric Pressure')\n",
    "\n",
    "\n",
    "plt.xticks(range(len(avg_pressure_by_month_sorted)), avg_pressure_by_month_sorted.index)\n",
    "plt.tight_layout()  # Ensure labels do not overlap\n",
    "plt.show()"
   ]
  },
  {
   "cell_type": "code",
   "execution_count": 79,
   "metadata": {},
   "outputs": [
    {
     "name": "stdout",
     "output_type": "stream",
     "text": [
      "There are approximately 8244 Earth days in a Martian year.\n"
     ]
    }
   ],
   "source": [
    "# 5. How many terrestrial (earth) days are there in a Martian year?\n",
    "\n",
    "# Length of a Martian year in Earth days\n",
    "martian_year_in_earth_days = 687\n",
    "\n",
    "# Number of Earth days in a Martian year (12 Martian months)\n",
    "earth_days_in_martian_year = martian_year_in_earth_days * 12\n",
    "\n",
    "print(f\"There are approximately {earth_days_in_martian_year} Earth days in a Martian year.\")"
   ]
  },
  {
   "cell_type": "code",
   "execution_count": 78,
   "metadata": {},
   "outputs": [
    {
     "data": {
      "image/png": "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",
      "text/plain": [
       "<Figure size 640x480 with 1 Axes>"
      ]
     },
     "metadata": {},
     "output_type": "display_data"
    }
   ],
   "source": [
    "earth_days_in_martian_year = martian_year_in_earth_days * 12\n",
    "\n",
    "# Plot the minimum temperature against the number of terrestrial days\n",
    "\n",
    "\n",
    "# Plot the minimum temperature data\n",
    "plt.plot(df.index, df['min_temp'])\n",
    "\n",
    "\n",
    "\n",
    "plt.xlabel('Number of Terrestrial Days')\n",
    "plt.ylabel('Minimum Temperature')\n",
    "plt.tight_layout()\n",
    "plt.show()"
   ]
  },
  {
   "cell_type": "markdown",
   "metadata": {},
   "source": [
    "On average, the third month has the coldest minimum temperature on Mars, and the eighth month is the warmest. But it is always very cold there in human terms!\n",
    "\n"
   ]
  },
  {
   "cell_type": "markdown",
   "metadata": {},
   "source": [
    "Atmospheric pressure is, on average, lowest in the sixth month and highest in the ninth."
   ]
  },
  {
   "cell_type": "markdown",
   "metadata": {},
   "source": [
    "The distance from peak to peak is roughly 1425-750, or 675 days. A year on Mars appears to be about 675 days from the plot. Internet search confirms that a Mars year is equivalent to 687 earth days."
   ]
  },
  {
   "cell_type": "markdown",
   "metadata": {},
   "source": [
    "### Step 6: Save the Data\n",
    "\n",
    "Export the DataFrame to a CSV file."
   ]
  },
  {
   "cell_type": "code",
   "execution_count": 80,
   "metadata": {},
   "outputs": [
    {
     "name": "stdout",
     "output_type": "stream",
     "text": [
      "Data has been successfully saved to mars_temperature_data.csv\n"
     ]
    }
   ],
   "source": [
    "# Write the data to a CSV\n",
    "# Specify the file path for the CSV\n",
    "csv_file_path = 'mars_temperature_data.csv'\n",
    "\n",
    "# Write the data to the CSV file\n",
    "df.to_csv(csv_file_path, index=False)\n",
    "\n",
    "print(f\"Data has been successfully saved to {csv_file_path}\")"
   ]
  },
  {
   "cell_type": "code",
   "execution_count": 81,
   "metadata": {},
   "outputs": [],
   "source": [
    "browser.quit()"
   ]
  },
  {
   "cell_type": "code",
   "execution_count": null,
   "metadata": {},
   "outputs": [],
   "source": []
  }
 ],
 "metadata": {
  "kernelspec": {
   "display_name": "Python 3 (ipykernel)",
   "language": "python",
   "name": "python3"
  },
  "language_info": {
   "codemirror_mode": {
    "name": "ipython",
    "version": 3
   },
   "file_extension": ".py",
   "mimetype": "text/x-python",
   "name": "python",
   "nbconvert_exporter": "python",
   "pygments_lexer": "ipython3",
   "version": "3.10.11"
  },
  "vscode": {
   "interpreter": {
    "hash": "31f2aee4e71d21fbe5cf8b01ff0e069b9275f58929596ceb00d14d90e3e16cd6"
   }
  }
 },
 "nbformat": 4,
 "nbformat_minor": 4
}
